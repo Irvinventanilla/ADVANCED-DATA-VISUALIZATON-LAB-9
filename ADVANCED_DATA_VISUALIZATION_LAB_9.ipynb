{
  "nbformat": 4,
  "nbformat_minor": 0,
  "metadata": {
    "colab": {
      "provenance": [],
      "authorship_tag": "ABX9TyPP4+DYLwFvyfeXRG5YI/Ic",
      "include_colab_link": true
    },
    "kernelspec": {
      "name": "python3",
      "display_name": "Python 3"
    },
    "language_info": {
      "name": "python"
    }
  },
  "cells": [
    {
      "cell_type": "markdown",
      "metadata": {
        "id": "view-in-github",
        "colab_type": "text"
      },
      "source": [
        "<a href=\"https://colab.research.google.com/github/Irvinventanilla/ADVANCED-DATA-VISUALIZATON-LAB-9/blob/main/ADVANCED_DATA_VISUALIZATION_LAB_9.ipynb\" target=\"_parent\"><img src=\"https://colab.research.google.com/assets/colab-badge.svg\" alt=\"Open In Colab\"/></a>"
      ]
    },
    {
      "cell_type": "code",
      "source": [
        "price = [2, 1, 10] \n",
        "type(price)\n",
        "list"
      ],
      "metadata": {
        "colab": {
          "base_uri": "https://localhost:8080/"
        },
        "id": "-b4jpt4pfNkt",
        "outputId": "8d01a6d0-0ef9-4fbd-fd00-39feca73e65a"
      },
      "execution_count": null,
      "outputs": [
        {
          "output_type": "execute_result",
          "data": {
            "text/plain": [
              "list"
            ]
          },
          "metadata": {},
          "execution_count": 2
        }
      ]
    },
    {
      "cell_type": "code",
      "source": [
        "\n",
        "z=[3, 7, 4, 2]\n",
        "print(z [0:1])"
      ],
      "metadata": {
        "id": "JQVZxe4BgAYb",
        "colab": {
          "base_uri": "https://localhost:8080/"
        },
        "outputId": "6a5c0b99-80b7-4b83-f24d-feb9ba9f5e8e"
      },
      "execution_count": null,
      "outputs": [
        {
          "output_type": "stream",
          "name": "stdout",
          "text": [
            "[3]\n"
          ]
        }
      ]
    },
    {
      "cell_type": "code",
      "source": [
        "\n",
        "z=[3, 7, 4, 2]\n",
        "print(z [0:2])"
      ],
      "metadata": {
        "colab": {
          "base_uri": "https://localhost:8080/"
        },
        "id": "oaeSNN1Gigdc",
        "outputId": "791ed6d1-89e6-4730-855e-6b15de87cae5"
      },
      "execution_count": null,
      "outputs": [
        {
          "output_type": "stream",
          "name": "stdout",
          "text": [
            "[3, 7]\n"
          ]
        }
      ]
    },
    {
      "cell_type": "code",
      "source": [
        "z=[3, 7, 4, 2]\n",
        "print (z [0:3])"
      ],
      "metadata": {
        "colab": {
          "base_uri": "https://localhost:8080/"
        },
        "id": "BB_bTHl8i4tX",
        "outputId": "b3594725-346c-4e69-ff4b-bc7a25187e67"
      },
      "execution_count": null,
      "outputs": [
        {
          "output_type": "stream",
          "name": "stdout",
          "text": [
            "[3, 7, 4]\n"
          ]
        }
      ]
    },
    {
      "cell_type": "code",
      "source": [
        "z=[3, 7, 4, 2]\n",
        "print(z [0:4])"
      ],
      "metadata": {
        "colab": {
          "base_uri": "https://localhost:8080/"
        },
        "id": "8XSNKUKzj6Q1",
        "outputId": "3ffd24a0-85fb-490e-9fbc-b785369ba346"
      },
      "execution_count": null,
      "outputs": [
        {
          "output_type": "stream",
          "name": "stdout",
          "text": [
            "[3, 7, 4, 2]\n"
          ]
        }
      ]
    },
    {
      "cell_type": "code",
      "source": [
        "z [1] = \"fish\"\n",
        "print(z)"
      ],
      "metadata": {
        "id": "IvtuQ_fWkEyl",
        "colab": {
          "base_uri": "https://localhost:8080/"
        },
        "outputId": "b57fbcf2-2978-4d68-fce1-b367ef7ef40b"
      },
      "execution_count": 26,
      "outputs": [
        {
          "output_type": "stream",
          "name": "stdout",
          "text": [
            "[3, 'fish', 4, 2]\n"
          ]
        }
      ]
    },
    {
      "cell_type": "code",
      "source": [
        "heterogenousElements = [3, True, 'Michael', 2.0]"
      ],
      "metadata": {
        "id": "PfzN9isqkbyk"
      },
      "execution_count": 27,
      "outputs": []
    },
    {
      "cell_type": "code",
      "source": [
        "z = [4, 1, 5, 4, 10, 4]\n",
        "z.index(4, 2)"
      ],
      "metadata": {
        "colab": {
          "base_uri": "https://localhost:8080/"
        },
        "id": "-SU8Dnm6kiU9",
        "outputId": "ee7e214f-2c26-463f-9a53-6544a4336a22"
      },
      "execution_count": 28,
      "outputs": [
        {
          "output_type": "execute_result",
          "data": {
            "text/plain": [
              "3"
            ]
          },
          "metadata": {},
          "execution_count": 28
        }
      ]
    },
    {
      "cell_type": "code",
      "source": [
        "SampleList = [50, 70, 30, 20, 90, 10, 50]\n",
        "print(SampleList[1:5])"
      ],
      "metadata": {
        "colab": {
          "base_uri": "https://localhost:8080/"
        },
        "id": "VBPWFrhakyTF",
        "outputId": "dd58c555-a0c2-4311-9b85-2a0296d167a0"
      },
      "execution_count": 29,
      "outputs": [
        {
          "output_type": "stream",
          "name": "stdout",
          "text": [
            "[70, 30, 20, 90]\n"
          ]
        }
      ]
    },
    {
      "cell_type": "code",
      "source": [
        "Lst = [50, 70, 30, 20, 90, 10, 50]\n",
        "print(Lst[-7::1])"
      ],
      "metadata": {
        "id": "S97dWMjIjv9w",
        "colab": {
          "base_uri": "https://localhost:8080/"
        },
        "outputId": "3da37fd6-fee2-4c69-d943-196d4ee392c9"
      },
      "execution_count": 30,
      "outputs": [
        {
          "output_type": "stream",
          "name": "stdout",
          "text": [
            "[50, 70, 30, 20, 90, 10, 50]\n"
          ]
        }
      ]
    }
  ]
}